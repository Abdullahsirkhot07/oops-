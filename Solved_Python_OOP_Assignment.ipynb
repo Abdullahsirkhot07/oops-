{
  "cells": [
    {
      "cell_type": "markdown",
      "id": "9e89f827",
      "metadata": {
        "id": "9e89f827"
      },
      "source": [
        "# ✅ Solved Python OOP Assignment"
      ]
    },
    {
      "cell_type": "markdown",
      "id": "5a8494f9",
      "metadata": {
        "id": "5a8494f9"
      },
      "source": [
        "## 🧠 Theory Questions & Answers"
      ]
    },
    {
      "cell_type": "markdown",
      "id": "868ad061",
      "metadata": {
        "id": "868ad061"
      },
      "source": [
        "**What is Object-Oriented Programming (OOP)?**\n",
        "\n",
        "*Answer:*\n",
        "\n",
        "OOP is a paradigm that organizes code using objects, which combine data and behavior."
      ]
    },
    {
      "cell_type": "markdown",
      "id": "bf8ba5d0",
      "metadata": {
        "id": "bf8ba5d0"
      },
      "source": [
        "**What is a class in OOP?**\n",
        "\n",
        "*Answer:*\n",
        "\n",
        "A class is a blueprint for creating objects with shared behavior and attributes."
      ]
    },
    {
      "cell_type": "markdown",
      "id": "3d530564",
      "metadata": {
        "id": "3d530564"
      },
      "source": [
        "**What is an object in OOP?**\n",
        "\n",
        "*Answer:*\n",
        "\n",
        "An object is an instance of a class that contains actual data and functionality."
      ]
    },
    {
      "cell_type": "markdown",
      "id": "ec91f5c0",
      "metadata": {
        "id": "ec91f5c0"
      },
      "source": [
        "**What is the difference between abstraction and encapsulation?**\n",
        "\n",
        "*Answer:*\n",
        "\n",
        "Abstraction hides complex logic, showing only essential parts; encapsulation restricts direct access to data using access modifiers."
      ]
    },
    {
      "cell_type": "markdown",
      "id": "242ba78f",
      "metadata": {
        "id": "242ba78f"
      },
      "source": [
        "**What are dunder methods in Python?**\n",
        "\n",
        "*Answer:*\n",
        "\n",
        "Dunder methods (double underscores) are special Python methods like __init__, __str__, etc."
      ]
    },
    {
      "cell_type": "markdown",
      "id": "b97e8ea0",
      "metadata": {
        "id": "b97e8ea0"
      },
      "source": [
        "**Explain the concept of inheritance in OOP.**\n",
        "\n",
        "*Answer:*\n",
        "\n",
        "Inheritance allows a class to acquire properties and behaviors of another class."
      ]
    },
    {
      "cell_type": "markdown",
      "id": "19c0f739",
      "metadata": {
        "id": "19c0f739"
      },
      "source": [
        "**What is polymorphism in OOP?**\n",
        "\n",
        "*Answer:*\n",
        "\n",
        "Polymorphism enables methods to have different behaviors depending on the object invoking them."
      ]
    },
    {
      "cell_type": "markdown",
      "id": "e2855919",
      "metadata": {
        "id": "e2855919"
      },
      "source": [
        "**How is encapsulation achieved in Python?**\n",
        "\n",
        "*Answer:*\n",
        "\n",
        "By defining private variables using '__' and accessing them through getters/setters."
      ]
    },
    {
      "cell_type": "markdown",
      "id": "32809ea1",
      "metadata": {
        "id": "32809ea1"
      },
      "source": [
        "**What is a constructor in Python?**\n",
        "\n",
        "*Answer:*\n",
        "\n",
        "__init__ is the constructor method called automatically when an object is created."
      ]
    },
    {
      "cell_type": "markdown",
      "id": "a4d412b4",
      "metadata": {
        "id": "a4d412b4"
      },
      "source": [
        "**What are class and static methods in Python?**\n",
        "\n",
        "*Answer:*\n",
        "\n",
        "@classmethod takes cls as its parameter; @staticmethod does not take any implicit first argument."
      ]
    },
    {
      "cell_type": "markdown",
      "id": "abc9dd3d",
      "metadata": {
        "id": "abc9dd3d"
      },
      "source": [
        "**What is method overloading in Python?**\n",
        "\n",
        "*Answer:*\n",
        "\n",
        "Python supports method overloading by default arguments or *args, not true overloading."
      ]
    },
    {
      "cell_type": "markdown",
      "id": "238dfed0",
      "metadata": {
        "id": "238dfed0"
      },
      "source": [
        "**What is method overriding in OOP?**\n",
        "\n",
        "*Answer:*\n",
        "\n",
        "When a child class redefines a parent class method with the same name and parameters."
      ]
    },
    {
      "cell_type": "markdown",
      "id": "f9dca653",
      "metadata": {
        "id": "f9dca653"
      },
      "source": [
        "**What is a property decorator in Python?**\n",
        "\n",
        "*Answer:*\n",
        "\n",
        "@property is used to access method results like attributes."
      ]
    },
    {
      "cell_type": "markdown",
      "id": "77956e34",
      "metadata": {
        "id": "77956e34"
      },
      "source": [
        "**Why is polymorphism important in OOP?**\n",
        "\n",
        "*Answer:*\n",
        "\n",
        "It allows flexibility and reusability by allowing objects of different classes to be treated the same."
      ]
    },
    {
      "cell_type": "markdown",
      "id": "be02ec61",
      "metadata": {
        "id": "be02ec61"
      },
      "source": [
        "**What is an abstract class in Python?**\n",
        "\n",
        "*Answer:*\n",
        "\n",
        "An abstract class defines a blueprint using the abc module and cannot be instantiated directly."
      ]
    },
    {
      "cell_type": "markdown",
      "id": "8b418b04",
      "metadata": {
        "id": "8b418b04"
      },
      "source": [
        "**What are the advantages of OOP?**\n",
        "\n",
        "*Answer:*\n",
        "\n",
        "Advantages include code reusability, abstraction, scalability, and encapsulation."
      ]
    },
    {
      "cell_type": "markdown",
      "id": "64e4415d",
      "metadata": {
        "id": "64e4415d"
      },
      "source": [
        "**What is the difference between a class variable and an instance variable?**\n",
        "\n",
        "*Answer:*\n",
        "\n",
        "Class variables are shared across all instances; instance variables are specific to each object."
      ]
    },
    {
      "cell_type": "markdown",
      "id": "084f97f7",
      "metadata": {
        "id": "084f97f7"
      },
      "source": [
        "**What is multiple inheritance in Python?**\n",
        "\n",
        "*Answer:*\n",
        "\n",
        "A class inherits from more than one parent class."
      ]
    },
    {
      "cell_type": "markdown",
      "id": "b1b68463",
      "metadata": {
        "id": "b1b68463"
      },
      "source": [
        "**Explain the purpose of `__str__` and `__repr__` methods in Python.**\n",
        "\n",
        "*Answer:*\n",
        "\n",
        "__str__ provides a readable string; __repr__ provides an unambiguous string for developers."
      ]
    },
    {
      "cell_type": "markdown",
      "id": "202b7d5e",
      "metadata": {
        "id": "202b7d5e"
      },
      "source": [
        "**What is the significance of the `super()` function in Python?**\n",
        "\n",
        "*Answer:*\n",
        "\n",
        "super() is used to call parent class methods from a child class."
      ]
    },
    {
      "cell_type": "markdown",
      "id": "0926bbed",
      "metadata": {
        "id": "0926bbed"
      },
      "source": [
        "**What is the significance of the `__del__` method in Python?**\n",
        "\n",
        "*Answer:*\n",
        "\n",
        "__del__ is called when an object is about to be destroyed (destructor)."
      ]
    },
    {
      "cell_type": "markdown",
      "id": "be21d56d",
      "metadata": {
        "id": "be21d56d"
      },
      "source": [
        "**What is the difference between @staticmethod and @classmethod in Python?**\n",
        "\n",
        "*Answer:*\n",
        "\n",
        "@staticmethod has no implicit first argument; @classmethod takes the class as the first argument."
      ]
    },
    {
      "cell_type": "markdown",
      "id": "3d98d51f",
      "metadata": {
        "id": "3d98d51f"
      },
      "source": [
        "**How does polymorphism work in Python with inheritance?**\n",
        "\n",
        "*Answer:*\n",
        "\n",
        "Child classes override parent methods, allowing dynamic method resolution."
      ]
    },
    {
      "cell_type": "markdown",
      "id": "a5d1e325",
      "metadata": {
        "id": "a5d1e325"
      },
      "source": [
        "**What is method chaining in Python OOP?**\n",
        "\n",
        "*Answer:*\n",
        "\n",
        "It allows chaining of multiple method calls using return self."
      ]
    },
    {
      "cell_type": "markdown",
      "id": "95131be1",
      "metadata": {
        "id": "95131be1"
      },
      "source": [
        "**What is the purpose of the `__call__` method in Python?**\n",
        "\n",
        "*Answer:*\n",
        "\n",
        "__call__ allows objects to be called as if they were functions."
      ]
    },
    {
      "cell_type": "markdown",
      "id": "fa2fcfb7",
      "metadata": {
        "id": "fa2fcfb7"
      },
      "source": [
        "## 🧪 Practical Questions & Solutions"
      ]
    },
    {
      "cell_type": "markdown",
      "id": "370d445a",
      "metadata": {
        "id": "370d445a"
      },
      "source": [
        "**1. Create a parent class Animal with a method speak() that prints a generic message. Create a child class Dog that overrides the speak() method to print 'Bark!'.**"
      ]
    },
    {
      "cell_type": "code",
      "execution_count": 1,
      "id": "00af90e4",
      "metadata": {
        "id": "00af90e4",
        "colab": {
          "base_uri": "https://localhost:8080/"
        },
        "outputId": "5cd79d07-9cf9-4bf8-9999-a70f7b1d30c3"
      },
      "outputs": [
        {
          "output_type": "stream",
          "name": "stdout",
          "text": [
            "Bark!\n"
          ]
        }
      ],
      "source": [
        "class Animal:\n",
        "    def speak(self):\n",
        "        print(\"Some sound\")\n",
        "\n",
        "class Dog(Animal):\n",
        "    def speak(self):\n",
        "        print(\"Bark!\")\n",
        "\n",
        "Dog().speak()"
      ]
    },
    {
      "cell_type": "markdown",
      "id": "9afe3771",
      "metadata": {
        "id": "9afe3771"
      },
      "source": [
        "**2. Write a program to create an abstract class Shape with a method area(). Derive classes Circle and Rectangle from it and implement the area() method in both.**"
      ]
    },
    {
      "cell_type": "code",
      "execution_count": 2,
      "id": "6e124ffa",
      "metadata": {
        "id": "6e124ffa",
        "colab": {
          "base_uri": "https://localhost:8080/"
        },
        "outputId": "27fc0fe8-f86d-4e79-d609-d3697ad6c4b7"
      },
      "outputs": [
        {
          "output_type": "stream",
          "name": "stdout",
          "text": [
            "28.2744 20\n"
          ]
        }
      ],
      "source": [
        "from abc import ABC, abstractmethod\n",
        "class Shape(ABC):\n",
        "    @abstractmethod\n",
        "    def area(self):\n",
        "        pass\n",
        "\n",
        "class Circle(Shape):\n",
        "    def __init__(self, r): self.r = r\n",
        "    def area(self): return 3.1416 * self.r ** 2\n",
        "\n",
        "class Rectangle(Shape):\n",
        "    def __init__(self, w, h): self.w = w; self.h = h\n",
        "    def area(self): return self.w * self.h\n",
        "\n",
        "print(Circle(3).area(), Rectangle(4, 5).area())"
      ]
    },
    {
      "cell_type": "markdown",
      "id": "4a305ab5",
      "metadata": {
        "id": "4a305ab5"
      },
      "source": [
        "**3. Implement a multi-level inheritance scenario where a class Vehicle has an attribute type. Derive a class Car and further derive a class ElectricCar that adds a battery attribute.**"
      ]
    },
    {
      "cell_type": "code",
      "execution_count": 3,
      "id": "f4676079",
      "metadata": {
        "id": "f4676079",
        "colab": {
          "base_uri": "https://localhost:8080/"
        },
        "outputId": "3e65c998-1374-4119-d0d7-94f042e03706"
      },
      "outputs": [
        {
          "output_type": "stream",
          "name": "stdout",
          "text": [
            "4-wheeler Tesla 75\n"
          ]
        }
      ],
      "source": [
        "class Vehicle:\n",
        "    def __init__(self, type): self.type = type\n",
        "\n",
        "class Car(Vehicle):\n",
        "    def __init__(self, type, brand): super().__init__(type); self.brand = brand\n",
        "\n",
        "class ElectricCar(Car):\n",
        "    def __init__(self, type, brand, battery): super().__init__(type, brand); self.battery = battery\n",
        "\n",
        "ec = ElectricCar(\"4-wheeler\", \"Tesla\", 75)\n",
        "print(ec.type, ec.brand, ec.battery)"
      ]
    },
    {
      "cell_type": "markdown",
      "id": "12f7443d",
      "metadata": {
        "id": "12f7443d"
      },
      "source": [
        "**4. Demonstrate polymorphism by creating a base class Bird with a method fly(). Create two derived classes Sparrow and Penguin that override the fly() method.**"
      ]
    },
    {
      "cell_type": "code",
      "execution_count": 4,
      "id": "4d32ed79",
      "metadata": {
        "id": "4d32ed79",
        "colab": {
          "base_uri": "https://localhost:8080/"
        },
        "outputId": "13cee1ad-7647-4737-ba46-5e2acd063f7b"
      },
      "outputs": [
        {
          "output_type": "stream",
          "name": "stdout",
          "text": [
            "Sparrow flies high\n",
            "Penguins cannot fly\n"
          ]
        }
      ],
      "source": [
        "class Bird:\n",
        "    def fly(self): print(\"Bird is flying\")\n",
        "\n",
        "class Sparrow(Bird):\n",
        "    def fly(self): print(\"Sparrow flies high\")\n",
        "\n",
        "class Penguin(Bird):\n",
        "    def fly(self): print(\"Penguins cannot fly\")\n",
        "\n",
        "for b in [Sparrow(), Penguin()]: b.fly()"
      ]
    },
    {
      "cell_type": "markdown",
      "id": "8cca8988",
      "metadata": {
        "id": "8cca8988"
      },
      "source": [
        "**5. Write a program to demonstrate encapsulation by creating a class BankAccount with private attributes balance and methods to deposit, withdraw, and check balance.**"
      ]
    },
    {
      "cell_type": "code",
      "execution_count": 5,
      "id": "27947f98",
      "metadata": {
        "id": "27947f98",
        "colab": {
          "base_uri": "https://localhost:8080/"
        },
        "outputId": "ada3d8d0-99c2-4760-eda3-efaec978b39b"
      },
      "outputs": [
        {
          "output_type": "stream",
          "name": "stdout",
          "text": [
            "120\n"
          ]
        }
      ],
      "source": [
        "class BankAccount:\n",
        "    def __init__(self, balance=0): self.__balance = balance\n",
        "    def deposit(self, amt): self.__balance += amt\n",
        "    def withdraw(self, amt): self.__balance -= amt\n",
        "    def get_balance(self): return self.__balance\n",
        "\n",
        "acc = BankAccount(100)\n",
        "acc.deposit(50); acc.withdraw(30); print(acc.get_balance())"
      ]
    },
    {
      "cell_type": "markdown",
      "id": "b887e3e5",
      "metadata": {
        "id": "b887e3e5"
      },
      "source": [
        "**6. Demonstrate runtime polymorphism using a method play() in a base class Instrument. Derive classes Guitar and Piano that implement their own version of play().**"
      ]
    },
    {
      "cell_type": "code",
      "execution_count": 6,
      "id": "89bfcd22",
      "metadata": {
        "id": "89bfcd22",
        "colab": {
          "base_uri": "https://localhost:8080/"
        },
        "outputId": "09ef5fe9-4bef-49cf-8323-4ae6a5a73c78"
      },
      "outputs": [
        {
          "output_type": "stream",
          "name": "stdout",
          "text": [
            "Strum guitar\n",
            "Play piano\n"
          ]
        }
      ],
      "source": [
        "class Instrument:\n",
        "    def play(self): print(\"Instrument playing\")\n",
        "\n",
        "class Guitar(Instrument):\n",
        "    def play(self): print(\"Strum guitar\")\n",
        "\n",
        "class Piano(Instrument):\n",
        "    def play(self): print(\"Play piano\")\n",
        "\n",
        "for i in [Guitar(), Piano()]: i.play()"
      ]
    },
    {
      "cell_type": "markdown",
      "id": "1489277b",
      "metadata": {
        "id": "1489277b"
      },
      "source": [
        "**7. Create a class MathOperations with a class method add_numbers() to add two numbers and a static method subtract_numbers() to subtract two numbers.**"
      ]
    },
    {
      "cell_type": "code",
      "execution_count": 7,
      "id": "c9c4ea5a",
      "metadata": {
        "id": "c9c4ea5a",
        "colab": {
          "base_uri": "https://localhost:8080/"
        },
        "outputId": "d973ef0c-a105-46e4-cdb7-4be7a061af85"
      },
      "outputs": [
        {
          "output_type": "stream",
          "name": "stdout",
          "text": [
            "8 2\n"
          ]
        }
      ],
      "source": [
        "class MathOperations:\n",
        "    @classmethod\n",
        "    def add_numbers(cls, a, b): return a + b\n",
        "    @staticmethod\n",
        "    def subtract_numbers(a, b): return a - b\n",
        "\n",
        "print(MathOperations.add_numbers(5, 3), MathOperations.subtract_numbers(5, 3))"
      ]
    },
    {
      "cell_type": "markdown",
      "id": "037770eb",
      "metadata": {
        "id": "037770eb"
      },
      "source": [
        "**8. Implement a class Person with a class method to count the total number of persons created.**"
      ]
    },
    {
      "cell_type": "code",
      "execution_count": 8,
      "id": "cf4ed8bb",
      "metadata": {
        "id": "cf4ed8bb",
        "colab": {
          "base_uri": "https://localhost:8080/"
        },
        "outputId": "c9c77d09-587b-49d5-bea7-61bc271cade8"
      },
      "outputs": [
        {
          "output_type": "stream",
          "name": "stdout",
          "text": [
            "2\n"
          ]
        }
      ],
      "source": [
        "class Person:\n",
        "    count = 0\n",
        "    def __init__(self): Person.count += 1\n",
        "    @classmethod\n",
        "    def total(cls): return cls.count\n",
        "\n",
        "p1 = Person(); p2 = Person()\n",
        "print(Person.total())"
      ]
    },
    {
      "cell_type": "markdown",
      "id": "068c2617",
      "metadata": {
        "id": "068c2617"
      },
      "source": [
        "**9. Write a class Fraction with attributes numerator and denominator. Override the str method to display the fraction as 'numerator/denominator'.**"
      ]
    },
    {
      "cell_type": "code",
      "execution_count": 9,
      "id": "549fc7b9",
      "metadata": {
        "id": "549fc7b9",
        "colab": {
          "base_uri": "https://localhost:8080/"
        },
        "outputId": "9cb7feeb-9325-4396-c844-3d8875801893"
      },
      "outputs": [
        {
          "output_type": "stream",
          "name": "stdout",
          "text": [
            "3/4\n"
          ]
        }
      ],
      "source": [
        "class Fraction:\n",
        "    def __init__(self, n, d): self.n = n; self.d = d\n",
        "    def __str__(self): return f\"{self.n}/{self.d}\"\n",
        "\n",
        "print(Fraction(3, 4))"
      ]
    },
    {
      "cell_type": "markdown",
      "id": "e87e9b5e",
      "metadata": {
        "id": "e87e9b5e"
      },
      "source": [
        "**10. Demonstrate operator overloading by creating a class Vector and overriding the add method to add two vectors.**"
      ]
    },
    {
      "cell_type": "code",
      "execution_count": 10,
      "id": "4370dafc",
      "metadata": {
        "id": "4370dafc",
        "colab": {
          "base_uri": "https://localhost:8080/"
        },
        "outputId": "db5c79b9-f451-4fbf-a67f-57954a69ba2d"
      },
      "outputs": [
        {
          "output_type": "stream",
          "name": "stdout",
          "text": [
            "Vector(4, 6)\n"
          ]
        }
      ],
      "source": [
        "class Vector:\n",
        "    def __init__(self, x, y): self.x = x; self.y = y\n",
        "    def __add__(self, other): return Vector(self.x + other.x, self.y + other.y)\n",
        "    def __repr__(self): return f\"Vector({self.x}, {self.y})\"\n",
        "\n",
        "print(Vector(1, 2) + Vector(3, 4))"
      ]
    },
    {
      "cell_type": "markdown",
      "id": "94c613de",
      "metadata": {
        "id": "94c613de"
      },
      "source": [
        "**11. Create a class Person with attributes name and age. Add a method greet() that prints 'Hello, my name is {name} and I am {age} years old.'**"
      ]
    },
    {
      "cell_type": "code",
      "execution_count": 11,
      "id": "6596b005",
      "metadata": {
        "id": "6596b005",
        "colab": {
          "base_uri": "https://localhost:8080/"
        },
        "outputId": "a04d8900-9bff-4cb9-e636-35647e81655a"
      },
      "outputs": [
        {
          "output_type": "stream",
          "name": "stdout",
          "text": [
            "Hello, my name is Ali and I am 30 years old.\n"
          ]
        }
      ],
      "source": [
        "class Person:\n",
        "    def __init__(self, name, age): self.name = name; self.age = age\n",
        "    def greet(self): print(f\"Hello, my name is {self.name} and I am {self.age} years old.\")\n",
        "\n",
        "Person(\"Ali\", 30).greet()"
      ]
    },
    {
      "cell_type": "markdown",
      "id": "59b13adb",
      "metadata": {
        "id": "59b13adb"
      },
      "source": [
        "**12. Implement a class Student with attributes name and grades. Create a method average_grade() to compute the average of the grades.**"
      ]
    },
    {
      "cell_type": "code",
      "execution_count": 12,
      "id": "1c381e99",
      "metadata": {
        "id": "1c381e99",
        "colab": {
          "base_uri": "https://localhost:8080/"
        },
        "outputId": "ce3bdd86-740b-4492-9d01-447fda4e0564"
      },
      "outputs": [
        {
          "output_type": "stream",
          "name": "stdout",
          "text": [
            "85.0\n"
          ]
        }
      ],
      "source": [
        "class Student:\n",
        "    def __init__(self, name, grades): self.name = name; self.grades = grades\n",
        "    def average_grade(self): return sum(self.grades) / len(self.grades)\n",
        "\n",
        "print(Student(\"Sara\", [80, 90, 85]).average_grade())"
      ]
    },
    {
      "cell_type": "markdown",
      "id": "07e9ab8a",
      "metadata": {
        "id": "07e9ab8a"
      },
      "source": [
        "**13. Create a class Rectangle with methods set_dimensions() to set the dimensions and area() to calculate the area.**"
      ]
    },
    {
      "cell_type": "code",
      "execution_count": 13,
      "id": "4d99eda1",
      "metadata": {
        "id": "4d99eda1",
        "colab": {
          "base_uri": "https://localhost:8080/"
        },
        "outputId": "4a3f8e2d-a056-43ed-fb45-b6ef9d4fc21d"
      },
      "outputs": [
        {
          "output_type": "stream",
          "name": "stdout",
          "text": [
            "20\n"
          ]
        }
      ],
      "source": [
        "class Rectangle:\n",
        "    def set_dimensions(self, w, h): self.w = w; self.h = h\n",
        "    def area(self): return self.w * self.h\n",
        "\n",
        "r = Rectangle(); r.set_dimensions(4, 5); print(r.area())"
      ]
    },
    {
      "cell_type": "markdown",
      "id": "569a661a",
      "metadata": {
        "id": "569a661a"
      },
      "source": [
        "**14. Create a class Employee with a method calculate_salary() that computes the salary based on hours worked and hourly rate. Create a derived class Manager that adds a bonus to the salary.**"
      ]
    },
    {
      "cell_type": "code",
      "execution_count": 14,
      "id": "27d78057",
      "metadata": {
        "id": "27d78057",
        "colab": {
          "base_uri": "https://localhost:8080/"
        },
        "outputId": "82e7aee8-2c8b-47b3-9cbe-bbeae348a647"
      },
      "outputs": [
        {
          "output_type": "stream",
          "name": "stdout",
          "text": [
            "9000\n"
          ]
        }
      ],
      "source": [
        "class Employee:\n",
        "    def calculate_salary(self, hours, rate): return hours * rate\n",
        "\n",
        "class Manager(Employee):\n",
        "    def calculate_salary(self, hours, rate, bonus): return super().calculate_salary(hours, rate) + bonus\n",
        "\n",
        "print(Manager().calculate_salary(160, 50, 1000))"
      ]
    },
    {
      "cell_type": "markdown",
      "id": "4b56994b",
      "metadata": {
        "id": "4b56994b"
      },
      "source": [
        "**15. Create a class Product with attributes name, price, and quantity. Implement a method total_price() that calculates the total price of the product.**"
      ]
    },
    {
      "cell_type": "code",
      "execution_count": 15,
      "id": "4cf78dff",
      "metadata": {
        "id": "4cf78dff",
        "colab": {
          "base_uri": "https://localhost:8080/"
        },
        "outputId": "1f654e2f-2c5f-468d-9c45-a4375541b4f2"
      },
      "outputs": [
        {
          "output_type": "stream",
          "name": "stdout",
          "text": [
            "20\n"
          ]
        }
      ],
      "source": [
        "class Product:\n",
        "    def __init__(self, name, price, qty): self.name = name; self.price = price; self.qty = qty\n",
        "    def total_price(self): return self.price * self.qty\n",
        "\n",
        "print(Product(\"Pen\", 2, 10).total_price())"
      ]
    },
    {
      "cell_type": "markdown",
      "id": "b1adb685",
      "metadata": {
        "id": "b1adb685"
      },
      "source": [
        "**16. Create a class Animal with an abstract method sound(). Create two derived classes Cow and Sheep that implement the sound() method.**"
      ]
    },
    {
      "cell_type": "code",
      "execution_count": 16,
      "id": "e9870b9b",
      "metadata": {
        "id": "e9870b9b",
        "colab": {
          "base_uri": "https://localhost:8080/"
        },
        "outputId": "4db29482-b211-4faf-9d28-4532f22ddf86"
      },
      "outputs": [
        {
          "output_type": "stream",
          "name": "stdout",
          "text": [
            "Moo Baa\n"
          ]
        }
      ],
      "source": [
        "from abc import ABC, abstractmethod\n",
        "class Animal(ABC):\n",
        "    @abstractmethod\n",
        "    def sound(self): pass\n",
        "\n",
        "class Cow(Animal):\n",
        "    def sound(self): return \"Moo\"\n",
        "class Sheep(Animal):\n",
        "    def sound(self): return \"Baa\"\n",
        "\n",
        "print(Cow().sound(), Sheep().sound())"
      ]
    },
    {
      "cell_type": "markdown",
      "id": "1c7694b3",
      "metadata": {
        "id": "1c7694b3"
      },
      "source": [
        "**17. Create a class Book with attributes title, author, and year_published. Add a method get_book_info() that returns a formatted string with the book's details.**"
      ]
    },
    {
      "cell_type": "code",
      "execution_count": 17,
      "id": "1dd80128",
      "metadata": {
        "id": "1dd80128",
        "colab": {
          "base_uri": "https://localhost:8080/"
        },
        "outputId": "0744bb0b-c98e-49f8-c8de-0d343b1d449e"
      },
      "outputs": [
        {
          "output_type": "stream",
          "name": "stdout",
          "text": [
            "1984 by Orwell (1949)\n"
          ]
        }
      ],
      "source": [
        "class Book:\n",
        "    def __init__(self, title, author, year): self.title = title; self.author = author; self.year = year\n",
        "    def get_book_info(self): return f\"{self.title} by {self.author} ({self.year})\"\n",
        "\n",
        "print(Book(\"1984\", \"Orwell\", 1949).get_book_info())"
      ]
    },
    {
      "cell_type": "markdown",
      "id": "a3317147",
      "metadata": {
        "id": "a3317147"
      },
      "source": [
        "**18. Create a class House with attributes address and price. Create a derived class Mansion that adds an attribute number_of_rooms.**"
      ]
    },
    {
      "cell_type": "code",
      "execution_count": 18,
      "id": "bec748c3",
      "metadata": {
        "id": "bec748c3",
        "colab": {
          "base_uri": "https://localhost:8080/"
        },
        "outputId": "438822d2-5bb0-4b42-9ca8-1dd8bf6c21b0"
      },
      "outputs": [
        {
          "output_type": "stream",
          "name": "stdout",
          "text": [
            "123 St 1000000 15\n"
          ]
        }
      ],
      "source": [
        "class House:\n",
        "    def __init__(self, address, price): self.address = address; self.price = price\n",
        "class Mansion(House):\n",
        "    def __init__(self, address, price, rooms): super().__init__(address, price); self.rooms = rooms\n",
        "\n",
        "m = Mansion(\"123 St\", 1000000, 15); print(m.address, m.price, m.rooms)"
      ]
    }
  ],
  "metadata": {
    "colab": {
      "provenance": []
    },
    "kernelspec": {
      "display_name": "Python 3",
      "name": "python3"
    },
    "language_info": {
      "name": "python"
    }
  },
  "nbformat": 4,
  "nbformat_minor": 5
}